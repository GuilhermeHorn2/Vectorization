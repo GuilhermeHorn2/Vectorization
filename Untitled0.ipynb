{
  "nbformat": 4,
  "nbformat_minor": 0,
  "metadata": {
    "colab": {
      "provenance": []
    },
    "kernelspec": {
      "name": "python3",
      "display_name": "Python 3"
    },
    "language_info": {
      "name": "python"
    }
  },
  "cells": [
    {
      "cell_type": "code",
      "execution_count": 2,
      "metadata": {
        "id": "cfBbUuSQjgnM"
      },
      "outputs": [],
      "source": [
        "import numpy as np\n"
      ]
    },
    {
      "cell_type": "code",
      "source": [
        "#1)\n",
        "def count_changes(bool_arr):\n",
        "  n = bool_arr.shape[0]\n",
        "  y = np.roll(bool_arr,n-1)\n",
        "  np.delete(bool_arr,[n-1])\n",
        "  np.delete(y,[n-1])\n",
        "  z = bool_arr | y\n",
        "  z[bool_arr != False] = 0\n",
        "  return np.sum(z)\n",
        "x = np.array([0,1,0,0,1])\n",
        "count_changes(x)"
      ],
      "metadata": {
        "colab": {
          "base_uri": "https://localhost:8080/"
        },
        "id": "NkwY3cPvpfMh",
        "outputId": "f4ea8f3b-70e7-40c1-c28e-d4ce10aea5fb"
      },
      "execution_count": 3,
      "outputs": [
        {
          "output_type": "execute_result",
          "data": {
            "text/plain": [
              "2"
            ]
          },
          "metadata": {},
          "execution_count": 3
        }
      ]
    },
    {
      "cell_type": "code",
      "source": [
        "#2)\n",
        "def odd_pow(x):\n",
        "  y = x[x % 2 != 0]**2\n",
        "  return y\n",
        "\n",
        "x = np.array([1,2,3,4,5,6])\n",
        "y = odd_pow(x)\n",
        "print(y)"
      ],
      "metadata": {
        "colab": {
          "base_uri": "https://localhost:8080/"
        },
        "id": "6jVguIc6piQE",
        "outputId": "c5f054f8-1178-4359-92c1-6339cb418dce"
      },
      "execution_count": null,
      "outputs": [
        {
          "output_type": "stream",
          "name": "stdout",
          "text": [
            "[ 1  9 25]\n"
          ]
        }
      ]
    },
    {
      "cell_type": "code",
      "source": [
        "#3)\n",
        "def sum_div5(x):\n",
        "  return np.sum(x[x % 5 == 0])\n",
        "\n",
        "x = np.array([1,5,12,15,20])\n",
        "print(sum_div5(x))"
      ],
      "metadata": {
        "colab": {
          "base_uri": "https://localhost:8080/"
        },
        "id": "UsKxe3H9rRPQ",
        "outputId": "ba3aca30-8698-4274-8fe3-e47f0099e2af"
      },
      "execution_count": null,
      "outputs": [
        {
          "output_type": "stream",
          "name": "stdout",
          "text": [
            "40\n"
          ]
        }
      ]
    },
    {
      "cell_type": "code",
      "source": [
        "#4)\n",
        "def sum_subseqs(x,n):\n",
        "  l = x.shape[0]\n",
        "\n",
        "  #\n",
        "  a = x\n",
        "  if l % n != 0:\n",
        "    tmp = np.zeros(n-(l%n))\n",
        "    a = np.append(x,tmp)\n",
        "  #\n",
        "  l = a.shape[0]\n",
        "  b = np.reshape(a,(int(l/n),n))\n",
        "  return np.sum(b,axis=1)\n",
        "\n",
        "x = np.array([1,2,3,4,5,6,7,8,9,10,11,12])\n",
        "print(sum_subseqs(x,4))\n",
        "x = np.array([1,2,3,4,5,6,7,8,9,10,11,12,13,14])\n",
        "print(sum_subseqs(x,4))"
      ],
      "metadata": {
        "colab": {
          "base_uri": "https://localhost:8080/"
        },
        "id": "flR7YEJCyd58",
        "outputId": "7f5fd258-6c87-4cbd-8339-715a89bf3d34"
      },
      "execution_count": null,
      "outputs": [
        {
          "output_type": "stream",
          "name": "stdout",
          "text": [
            "[10 26 42]\n",
            "[10. 26. 42. 27.]\n"
          ]
        }
      ]
    },
    {
      "cell_type": "code",
      "source": [
        "#5)\n",
        "def all_pos(x):\n",
        "  x[x < 0] = 0\n",
        "\n",
        "x = np.array([-3,-2,-1,0,1,2,3])\n",
        "all_pos(x)\n",
        "print(x)"
      ],
      "metadata": {
        "colab": {
          "base_uri": "https://localhost:8080/"
        },
        "id": "4DevlQHYzmyR",
        "outputId": "5e822747-740a-4d2f-8ea1-34d99526900a"
      },
      "execution_count": null,
      "outputs": [
        {
          "output_type": "stream",
          "name": "stdout",
          "text": [
            "[0 0 0 0 1 2 3]\n"
          ]
        }
      ]
    },
    {
      "cell_type": "code",
      "source": [
        "#6)\n",
        "def num_ev(x):\n",
        "  return np.sum(x % 2 == 0)\n",
        "\n",
        "x = np.array([1,2,3,4,5,6,7])\n",
        "print(num_ev(x))"
      ],
      "metadata": {
        "colab": {
          "base_uri": "https://localhost:8080/"
        },
        "id": "7avdG5a_3P0G",
        "outputId": "62a38485-13ec-41f6-bc73-5eea95738d60"
      },
      "execution_count": null,
      "outputs": [
        {
          "output_type": "stream",
          "name": "stdout",
          "text": [
            "3\n"
          ]
        }
      ]
    },
    {
      "cell_type": "code",
      "source": [
        "#7)\n",
        "x = np.array([1,2,3,4,5,4,2,1,2,3,2,1,2,3,4,5,6,5,4,3,2,1]) # i\n",
        "n = x.shape[0]\n",
        "y = np.roll(x,-1) # i+1\n",
        "z = np.roll(x,1) # i-1\n",
        "tmp1 = np.where(x > y,x,np.min(z))\n",
        "tmp2 = tmp1[tmp1 > z]\n",
        "print(tmp2)"
      ],
      "metadata": {
        "id": "85-iBFTd-9Zw",
        "colab": {
          "base_uri": "https://localhost:8080/"
        },
        "outputId": "02abbfdc-3e7a-4858-e7f7-924e6fdeef84"
      },
      "execution_count": 49,
      "outputs": [
        {
          "output_type": "stream",
          "name": "stdout",
          "text": [
            "[5 3 6]\n"
          ]
        }
      ]
    },
    {
      "cell_type": "code",
      "source": [
        "#8)\n",
        "x = np.array([1,2,3,4,5,6,7,8,9,10])\n",
        "l = x.shape[0]\n",
        "n = 4\n",
        "sum = np.cumsum(x,axis=0)\n",
        "shift = np.roll(sum,n)\n",
        "shift[n-1] = 0\n",
        "y = (sum - shift)/n\n",
        "final = y[y>0]\n",
        "print(final)"
      ],
      "metadata": {
        "colab": {
          "base_uri": "https://localhost:8080/"
        },
        "id": "9aj3yXUj7rzi",
        "outputId": "523564d4-2491-4724-d086-49c95c0fd5ec"
      },
      "execution_count": 32,
      "outputs": [
        {
          "output_type": "stream",
          "name": "stdout",
          "text": [
            "[2.5 3.5 4.5 5.5 6.5 7.5 8.5]\n"
          ]
        }
      ]
    },
    {
      "cell_type": "code",
      "source": [
        "#9)\n",
        "x = np.array([1,2,3,4])\n",
        "x = x/np.sum(x)\n",
        "print(x)"
      ],
      "metadata": {
        "colab": {
          "base_uri": "https://localhost:8080/"
        },
        "id": "HjmnxqGqIODg",
        "outputId": "4ff61c6a-427e-41d4-f1e1-b85554288fa7"
      },
      "execution_count": 34,
      "outputs": [
        {
          "output_type": "stream",
          "name": "stdout",
          "text": [
            "[0.1 0.2 0.3 0.4]\n"
          ]
        }
      ]
    },
    {
      "cell_type": "code",
      "source": [
        "#10)\n",
        "a = np.array([1,2,3])\n",
        "b = np.array([4,5,6])\n",
        "tmp1 = a-b\n",
        "tmp1 = tmp1**2\n",
        "e_dist = np.sqrt(np.sum(tmp1))\n",
        "print(e_dist)"
      ],
      "metadata": {
        "colab": {
          "base_uri": "https://localhost:8080/"
        },
        "id": "2XNHZBBqJ5vP",
        "outputId": "73b592f5-cb41-4648-96c0-f1558007626b"
      },
      "execution_count": 37,
      "outputs": [
        {
          "output_type": "stream",
          "name": "stdout",
          "text": [
            "5.196152422706632\n"
          ]
        }
      ]
    },
    {
      "cell_type": "code",
      "source": [
        "#11)\n",
        "x = np.array([1,2,3,4,5])\n",
        "y = np.roll(x,1)\n",
        "y[0] = x[0]-1\n",
        "qnt = np.sum(x-y < 0)\n",
        "sorted = False\n",
        "if qnt == 0:\n",
        "  sorted = True\n",
        "print(sorted)\n"
      ],
      "metadata": {
        "colab": {
          "base_uri": "https://localhost:8080/"
        },
        "id": "r6VlxMcPLdp9",
        "outputId": "03a51047-8286-483a-d3a5-567a6ea94c99"
      },
      "execution_count": 42,
      "outputs": [
        {
          "output_type": "stream",
          "name": "stdout",
          "text": [
            "True\n"
          ]
        }
      ]
    },
    {
      "cell_type": "code",
      "source": [
        "#12)\n",
        "x = np.array([10,7,4,3,2])\n",
        "y = np.roll(x,-1)\n",
        "y = y-x\n",
        "y = np.delete(y,x.shape[0]-1)\n",
        "print(y)"
      ],
      "metadata": {
        "colab": {
          "base_uri": "https://localhost:8080/"
        },
        "id": "cgFCTvaeM8ew",
        "outputId": "2e3d969e-7413-4e7a-d3e2-8d8587820ca0"
      },
      "execution_count": 54,
      "outputs": [
        {
          "output_type": "stream",
          "name": "stdout",
          "text": [
            "[-3 -3 -1 -1]\n"
          ]
        }
      ]
    },
    {
      "cell_type": "code",
      "source": [
        "#13)\n",
        "x = np.array([1,-2,3,4,-5,6,-7,8,-9])\n",
        "sum_pos = np.sum(x[x>0])\n",
        "print(sum_pos)"
      ],
      "metadata": {
        "colab": {
          "base_uri": "https://localhost:8080/"
        },
        "id": "ZVIVhXVwOo1c",
        "outputId": "e82b7e23-2e0d-4539-cf44-84081cfafc42"
      },
      "execution_count": 55,
      "outputs": [
        {
          "output_type": "stream",
          "name": "stdout",
          "text": [
            "22\n"
          ]
        }
      ]
    },
    {
      "cell_type": "code",
      "source": [
        "#14)\n",
        "x = np.array([1,2,3,4,5,4,3,2,1])\n",
        "y = x[::-1]\n",
        "equal = np.array_equal(x,y)\n",
        "print(equal)"
      ],
      "metadata": {
        "colab": {
          "base_uri": "https://localhost:8080/"
        },
        "id": "odGCJz3QQDyY",
        "outputId": "6417a486-c838-496b-8a37-191ddab43280"
      },
      "execution_count": 57,
      "outputs": [
        {
          "output_type": "stream",
          "name": "stdout",
          "text": [
            "True\n"
          ]
        }
      ]
    },
    {
      "cell_type": "code",
      "source": [],
      "metadata": {
        "id": "oobxrknRQgaB"
      },
      "execution_count": null,
      "outputs": []
    }
  ]
}
