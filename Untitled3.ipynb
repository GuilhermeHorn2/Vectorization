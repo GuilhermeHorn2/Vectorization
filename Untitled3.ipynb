{
 "cells": [
  {
   "cell_type": "code",
   "execution_count": 4,
   "id": "cd8631d4-9a04-4aae-a06a-06de8e2d94d9",
   "metadata": {},
   "outputs": [],
   "source": [
    "import cv2 as cv\n",
    "from matplotlib import pyplot as plt\n",
    "import numpy as np"
   ]
  },
  {
   "cell_type": "code",
   "execution_count": 2,
   "id": "28d82c7d-805a-4abc-9a32-5a3d7cce2f9b",
   "metadata": {},
   "outputs": [],
   "source": [
    "img = cv.imread('dog.jpg',0)"
   ]
  },
  {
   "cell_type": "code",
   "execution_count": 6,
   "id": "c4932531-9a55-4625-8e87-4d6463b9f4d9",
   "metadata": {},
   "outputs": [
    {
     "name": "stdout",
     "output_type": "stream",
     "text": [
      "[ 12  13  14  15  16  17  18  19  20  21  22  23  24  25  26  27  28  29\n",
      "  30  31  32  33  34  35  36  37  38  39  40  41  42  43  44  45  46  47\n",
      "  48  49  50  51  52  53  54  55  56  57  58  59  60  61  62  63  64  65\n",
      "  66  67  68  69  70  71  72  73  74  75  76  77  78  79  80  81  82  83\n",
      "  84  85  86  87  88  89  90  91  92  93  94  95  96  97  98  99 100 101\n",
      " 102 103 104 105 106 107 108 109 110 111 112 113 114 115 116 117 118 119\n",
      " 120 121 122 123 124 125 126 127 128 129 130 131 132 133 134 135 136 137\n",
      " 138 139 140 141 142 143 144 145 146 147 148 149 150 151 152 153 154 155\n",
      " 156 157 158 159 160 161 162 163 164 165 166 167 168 169 170 171 172 173\n",
      " 174 175 176 177 178 179 180 181 182 183 184 185 186 187 188 189 190 191\n",
      " 192 193 194 195 196 197 198 199 200 201 202 203 204 205 206 207 208 209\n",
      " 210 211 212 213 214 215 216 217 218 219 220 221 222 223 224 225 226 227\n",
      " 228 229 230 231 232 233 234 235 236 237 238 239 240 241 242 243 244 245\n",
      " 246 247 248 249 250]\n"
     ]
    }
   ],
   "source": [
    "\n",
    "img_rp = np.unique(img.reshape(1,img.shape[0]*img.shape[1]))\n",
    "print(img_rp)"
   ]
  },
  {
   "cell_type": "code",
   "execution_count": 7,
   "id": "50033f29-be2f-43a7-9b0e-d63d212ccb54",
   "metadata": {},
   "outputs": [
    {
     "data": {
      "text/plain": [
       "(array([12., 12., 12., 12., 12., 12., 12., 12., 12., 11., 12., 12., 12.,\n",
       "        12., 12., 12., 12., 12., 12., 12.]),\n",
       " array([ 12. ,  23.9,  35.8,  47.7,  59.6,  71.5,  83.4,  95.3, 107.2,\n",
       "        119.1, 131. , 142.9, 154.8, 166.7, 178.6, 190.5, 202.4, 214.3,\n",
       "        226.2, 238.1, 250. ]),\n",
       " <BarContainer object of 20 artists>)"
      ]
     },
     "execution_count": 7,
     "metadata": {},
     "output_type": "execute_result"
    },
    {
     "data": {
      "image/png": "[encoded data removed]",
      "text/plain": [
       "<Figure size 640x480 with 1 Axes>"
      ]
     },
     "metadata": {},
     "output_type": "display_data"
    }
   ],
   "source": [
    "plt.hist(img_rp,bins=20,edgecolor='black');"
   ]
  },
  {
   "cell_type": "code",
   "execution_count": null,
   "id": "b7e27f65-22fa-420a-9088-3de2444b3470",
   "metadata": {},
   "outputs": [],
   "source": []
  }
 ],
 "metadata": {
  "kernelspec": {
   "display_name": "Python 3 (ipykernel)",
   "language": "python",
   "name": "python3"
  },
  "language_info": {
   "codemirror_mode": {
    "name": "ipython",
    "version": 3
   },
   "file_extension": ".py",
   "mimetype": "text/x-python",
   "name": "python",
   "nbconvert_exporter": "python",
   "pygments_lexer": "ipython3",
   "version": "3.11.7"
  }
 },
 "nbformat": 4,
 "nbformat_minor": 5
}
